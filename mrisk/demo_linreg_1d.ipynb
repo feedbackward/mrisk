{
 "cells": [
  {
   "cell_type": "markdown",
   "id": "controlling-iceland",
   "metadata": {},
   "source": [
    "<a id=\"linreg_1d\"></a>\n",
    "# Demo: linear regression in one dimension"
   ]
  },
  {
   "cell_type": "code",
   "execution_count": 1,
   "id": "qualified-bottle",
   "metadata": {},
   "outputs": [],
   "source": [
    "## External modules.\n",
    "import matplotlib\n",
    "from matplotlib import cm\n",
    "import matplotlib.pyplot as plt\n",
    "import numpy as np\n",
    "import os\n",
    "from scipy.stats import lognorm, norm\n",
    "\n",
    "## Internal modules.\n",
    "from mml.algos.gd import GD_ERM\n",
    "from mml.losses.quadratic import Quadratic\n",
    "from mml.models.linreg import LinearRegression\n",
    "from mml.utils import makedir_safe\n",
    "from setup_losses import M_Risk\n",
    "from setup_results import img_dir, results_dir, my_fontsize, my_ext, export_legend"
   ]
  },
  {
   "cell_type": "code",
   "execution_count": 2,
   "id": "individual-affair",
   "metadata": {},
   "outputs": [],
   "source": [
    "## Create directory to save figures.\n",
    "#makedir_safe(img_dir) # uncomment if you plan to save figures."
   ]
  },
  {
   "cell_type": "code",
   "execution_count": 3,
   "id": "qualified-accuracy",
   "metadata": {},
   "outputs": [],
   "source": [
    "## Setup.\n",
    "n_train = 10000\n",
    "num_trials = 100\n",
    "batch_size = 8\n",
    "noise_name = \"normal\"\n",
    "\n",
    "rg = np.random.default_rng()\n",
    "\n",
    "w_star = np.array([1.0, 1.0], ndmin=2).T\n",
    "\n",
    "\n",
    "## Data generation.\n",
    "\n",
    "def gen_noise(n, name):\n",
    "    '''\n",
    "    Returns zero-mean noise.\n",
    "    '''\n",
    "    \n",
    "    if name == \"normal\":\n",
    "        noise = rg.normal(loc=0.0, scale=0.8, size=(n,1))\n",
    "    elif name == \"lognormal\":\n",
    "        sigma = 0.8\n",
    "        mean = 0.0\n",
    "        lognormal_mean = lognorm.stats(s=sigma,\n",
    "                                       scale=np.exp(mean),\n",
    "                                       moments=\"m\")\n",
    "        noise = rg.lognormal(mean=mean,\n",
    "                             sigma=sigma,\n",
    "                             size=(n,1)) - lognormal_mean\n",
    "    elif name == \"neglognormal\":\n",
    "        sigma = 0.8\n",
    "        mean = 0.0\n",
    "        lognormal_mean = lognorm.stats(s=sigma,\n",
    "                                       scale=np.exp(mean),\n",
    "                                       moments=\"m\")\n",
    "        noise = -(rg.lognormal(mean=mean,\n",
    "                               sigma=sigma,\n",
    "                               size=(n,1)) - lognormal_mean)\n",
    "    else:\n",
    "        raise ValueError(\"Please provide a proper noise name.\")\n",
    "    \n",
    "    return noise\n",
    "\n",
    "\n",
    "def gen_X(n):\n",
    "    x1 = rg.normal(loc=0.0, scale=1.0, size=(n,1))\n",
    "    x2 = np.ones_like(x1)\n",
    "    return np.hstack([x1,x2])\n"
   ]
  },
  {
   "cell_type": "code",
   "execution_count": 4,
   "id": "fatal-poland",
   "metadata": {},
   "outputs": [
    {
     "name": "stdout",
     "output_type": "stream",
     "text": [
      "CURRENT SIGMA: 0.0\n",
      "CURRENT SIGMA: 0.1\n",
      "CURRENT SIGMA: 1.0\n",
      "CURRENT SIGMA: 10.0\n",
      "CURRENT SIGMA: 100.0\n",
      "CURRENT SIGMA: inf\n"
     ]
    }
   ],
   "source": [
    "# Driver script, given a range of sigma values.\n",
    "\n",
    "## Sigma value.\n",
    "todo_sigma = [0.0, 0.1, 1.0, 10.0, 100.0, np.inf]\n",
    "\n",
    "## Algorithm setup size.\n",
    "step_size = 0.001\n",
    "\n",
    "## Storage over exp settings.\n",
    "store_over_settings = {}\n",
    "\n",
    "for sigma in todo_sigma:\n",
    "    \n",
    "    print(\"CURRENT SIGMA:\", sigma)\n",
    "    \n",
    "    ## Storage over trials.\n",
    "    slope_over_trials = []\n",
    "    intercept_over_trials = []\n",
    "    \n",
    "    for trial in range(num_trials):\n",
    "\n",
    "        ## Loss setup.\n",
    "        loss_base = Quadratic()\n",
    "        loss_mrisk = M_Risk(loss_base=loss_base, sigma=sigma, eta=None)\n",
    "\n",
    "        ## Model setup.\n",
    "        model = LinearRegression(num_features=2, rg=rg)\n",
    "        model.paras[\"theta\"] = rg.uniform(low=0.0, high=0.05, size=(1,1))\n",
    "\n",
    "        ## Algorithm setup.\n",
    "        algo = GD_ERM(step_coef=step_size, model=model, loss=loss_mrisk)\n",
    "\n",
    "        ## Data setup.\n",
    "        X_train = gen_X(n=n_train)\n",
    "        y_train = np.matmul(X_train, w_star) + gen_noise(n=len(X_train), name=noise_name)\n",
    "        \n",
    "        ## Do the training, one datapoint at a time.\n",
    "        num_steps = n_train // batch_size\n",
    "        idx_start = 0\n",
    "        idx_stop = min(batch_size, n_train)\n",
    "        for step in range(num_steps):\n",
    "            algo.update(X=X_train[idx_start:idx_stop,:],\n",
    "                        y=y_train[idx_start:idx_stop,:])\n",
    "            idx_start += batch_size\n",
    "            idx_stop = min(idx_start+batch_size, n_train)\n",
    "        \n",
    "        ## Store the final learned candidate this trial.\n",
    "        slope_over_trials += [algo.paras[\"w\"][0]]\n",
    "        intercept_over_trials += [algo.paras[\"w\"][1]]\n",
    "        \n",
    "    ## Turn the stored parameters into an ndarray.\n",
    "    slope_over_trials = np.array(slope_over_trials)\n",
    "    intercept_over_trials = np.array(intercept_over_trials)\n",
    "    \n",
    "    #print(\"Finished all trials for this sigma. Printing results:\")\n",
    "    #print(np.column_stack((slope_over_trials, intercept_over_trials)))\n",
    "    \n",
    "    ## Finally, store this setting-specific array.\n",
    "    key = str(sigma)\n",
    "    store_over_settings[key] = (slope_over_trials, intercept_over_trials)"
   ]
  },
  {
   "cell_type": "code",
   "execution_count": 5,
   "id": "broadband-extraction",
   "metadata": {},
   "outputs": [
    {
     "data": {
      "image/png": "[encoded data removed]",
      "text/plain": [
       "<Figure size 432x216 with 2 Axes>"
      ]
     },
     "metadata": {
      "needs_background": "light"
     },
     "output_type": "display_data"
    }
   ],
   "source": [
    "## Colour setup.\n",
    "sigma_cmap = cm.get_cmap(\"plasma\")\n",
    "sigma_names = [key for key in store_over_settings]\n",
    "sigma_colours = {}\n",
    "for i, key in enumerate(sigma_names):\n",
    "    sigma_colours[key] = sigma_cmap(i/len(sigma_names))\n",
    "\n",
    "## Visualize the stored parameter values over time.\n",
    "fig, (ax1, ax2) = plt.subplots(1, 2, figsize=(6,3),\n",
    "                               gridspec_kw={\"width_ratios\": [4, 1]},\n",
    "                               sharey=True)\n",
    "x_values = np.linspace(-5, 5, 1000)\n",
    "ax1.axhline(y=w_star[1], color=\"xkcd:silver\")\n",
    "ax1.axvline(x=0.0, color=\"xkcd:silver\")\n",
    "for key in store_over_settings:\n",
    "    slopes, intercepts = store_over_settings[key]\n",
    "    slope = np.mean(slopes)\n",
    "    intercept = np.mean(intercepts)\n",
    "    y_values = x_values*slope + intercept\n",
    "    ax1.plot(x_values, y_values, color=sigma_colours[key], label=key)\n",
    "ax1.plot(x_values, w_star[0]*x_values + w_star[1], color=\"xkcd:black\", ls=\"--\")\n",
    "ax1.tick_params(labelsize=my_fontsize)\n",
    "ax1.legend(loc=None, ncol=2)\n",
    "\n",
    "ax2.axhline(y=w_star[1], color=\"xkcd:silver\")\n",
    "ax2.hist(w_star[1]+gen_noise(n=len(X_train), name=noise_name),\n",
    "         bins=\"auto\",\n",
    "         color=\"black\", hatch=None, orientation=\"horizontal\",\n",
    "         density=True)\n",
    "ax2.tick_params(labelsize=my_fontsize)\n",
    "#ax2.label_outer()\n",
    "#ax2.set_ylim((-5,10)) # set as needed to ensure good visibility.\n",
    "ticks = [-3., w_star[1].item(), 5.]\n",
    "tick_labels = [-3., r\"$w_{0}^{\\ast}$\", 5.]\n",
    "ax2.set_yticks(ticks)\n",
    "ax2.set_yticklabels(tick_labels)\n",
    "#fig.suptitle(r\"Regression lines (for varying $\\sigma$) and noise densities\", size=my_fontsize)\n",
    "fname = os.path.join(img_dir, \"linreg_1d_{}.{}\".format(noise_name, my_ext))\n",
    "plt.tight_layout()\n",
    "#plt.savefig(fname=fname) # uncomment to save figure.\n",
    "plt.show()"
   ]
  },
  {
   "cell_type": "markdown",
   "id": "destroyed-blake",
   "metadata": {},
   "source": [
    "___"
   ]
  }
 ],
 "metadata": {
  "kernelspec": {
   "display_name": "Python 3",
   "language": "python",
   "name": "python3"
  },
  "language_info": {
   "codemirror_mode": {
    "name": "ipython",
    "version": 3
   },
   "file_extension": ".py",
   "mimetype": "text/x-python",
   "name": "python",
   "nbconvert_exporter": "python",
   "pygments_lexer": "ipython3",
   "version": "3.8.8"
  }
 },
 "nbformat": 4,
 "nbformat_minor": 5
}
