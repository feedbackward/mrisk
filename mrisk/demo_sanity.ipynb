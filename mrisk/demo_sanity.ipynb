{
 "cells": [
  {
   "cell_type": "markdown",
   "id": "consistent-verification",
   "metadata": {},
   "source": [
    "<a id=\"sanity\"></a>\n",
    "# Demo: sanity check in one dimension"
   ]
  },
  {
   "cell_type": "code",
   "execution_count": 1,
   "id": "internal-member",
   "metadata": {},
   "outputs": [],
   "source": [
    "## External modules.\n",
    "import matplotlib\n",
    "from matplotlib import cm\n",
    "import matplotlib.pyplot as plt\n",
    "import numpy as np\n",
    "import os\n",
    "from scipy.special import erf\n",
    "\n",
    "## Internal modules.\n",
    "from mml.algos.gd import GD_ERM\n",
    "from mml.losses import Loss\n",
    "from mml.models import Model\n",
    "from mml.utils import makedir_safe\n",
    "from setup_losses import M_Risk\n",
    "from setup_results import img_dir, results_dir, my_fontsize, my_ext, export_legend"
   ]
  },
  {
   "cell_type": "code",
   "execution_count": 2,
   "id": "worthy-sunrise",
   "metadata": {},
   "outputs": [],
   "source": [
    "## Create directory to save figures.\n",
    "#makedir_safe(img_dir) # uncomment if you plan to save figures."
   ]
  },
  {
   "cell_type": "code",
   "execution_count": 3,
   "id": "eight-identifier",
   "metadata": {},
   "outputs": [],
   "source": [
    "## Setup.\n",
    "n_train = 10000\n",
    "num_trials = 100\n",
    "batch_size = 8\n",
    "location_wide = 0.0\n",
    "location_narrow = location_wide + 2.0 # best yet: +2.0\n",
    "scale_wide = 1.0 # best yet: +1.0\n",
    "scale_narrow = 0.1\n",
    "rg = np.random.default_rng()\n",
    "\n",
    "## Data generation.\n",
    "def gen_loss_wide(n):\n",
    "    return np.absolute(rg.normal(loc=location_wide, scale=scale_wide, size=(n,1)))\n",
    "\n",
    "def gen_loss_narrow(n):\n",
    "    return np.absolute(rg.normal(loc=location_narrow, scale=scale_narrow, size=(n,1)))\n",
    "\n",
    "def gen_X(n):\n",
    "    x1 = gen_loss_wide(n=n)\n",
    "    x2 = gen_loss_narrow(n=n)\n",
    "    return np.hstack([x1,x2])\n",
    "\n",
    "\n",
    "## Custom model class.\n",
    "class Fixed(Model):\n",
    "    \n",
    "    def __init__(self, paras_init, name=\"Fixed 1-dim model.\"):\n",
    "        super().__init__(paras_init=paras_init, name=name)\n",
    "        return None\n",
    "    \n",
    "    \n",
    "    def func(self, paras=None, X=None):\n",
    "        n = len(X)\n",
    "        return self.paras[\"w\"]*np.ones(shape=(n,1))\n",
    "    \n",
    "    \n",
    "    def grad(self, paras=None, X=None):\n",
    "        model_grads = {}\n",
    "        model_grads[\"w\"] = np.ones(shape=(n,1,1))\n",
    "        return model_grads\n",
    "\n",
    "\n",
    "## Custom loss class.\n",
    "class Loss_Mixture(Loss):\n",
    "    \n",
    "    def __init__(self, name=None):\n",
    "        super().__init__(name=name)\n",
    "        return None\n",
    "    \n",
    "    \n",
    "    def func(self, model, X, y=None):\n",
    "        w = model(X=X)\n",
    "        return (w*X[:,0:1] + (1.0-w)*X[:,1:2])\n",
    "    \n",
    "    \n",
    "    def grad(self, model, X, y=None):\n",
    "        loss_grads = {\"w\": np.expand_dims(a=X[:,0]-X[:,1], axis=(1,2))}\n",
    "        return loss_grads\n"
   ]
  },
  {
   "cell_type": "code",
   "execution_count": 4,
   "id": "imperial-terminal",
   "metadata": {},
   "outputs": [
    {
     "name": "stdout",
     "output_type": "stream",
     "text": [
      "Working: eta value 1.0.\n",
      "Working: eta value 2.0.\n",
      "Working: eta value 4.0.\n",
      "Working: eta value 8.0.\n",
      "Working: eta value 16.0.\n",
      "Working: eta value 32.0.\n",
      "Working: eta value 64.0.\n",
      "Working: eta value 128.0.\n"
     ]
    }
   ],
   "source": [
    "# Driver script, given a pre-fixed sigma, and a range of eta values.\n",
    "\n",
    "## Sigma value.\n",
    "sigma = np.inf\n",
    "\n",
    "## Eta value.\n",
    "todo_eta = [1.0, 2.0, 4.0, 8.0, 16.0, 32.0, 64.0, 128.0]\n",
    "\n",
    "## Algorithm setup size.\n",
    "step_size = 0.001\n",
    "\n",
    "## Storage over exp settings.\n",
    "store_over_settings = {}\n",
    "\n",
    "for eta in todo_eta:\n",
    "    \n",
    "    ## Storage over trials.\n",
    "    store_over_trials = []\n",
    "    \n",
    "    print(\"Working: eta value {}.\".format(eta))\n",
    "\n",
    "    for trial in range(num_trials):\n",
    "\n",
    "        ## Initial values.\n",
    "        w_init = 0.5\n",
    "        theta_init = 0.5\n",
    "        paras_init = {\"w\": np.array([w_init], ndmin=2),\n",
    "                      \"theta\": np.array([theta_init], ndmin=2)}\n",
    "\n",
    "        ## Loss setup.\n",
    "        loss_base = Loss_Mixture()\n",
    "        loss_mrisk = M_Risk(loss_base=loss_base, sigma=sigma, eta=eta)\n",
    "\n",
    "        ## Model setup.\n",
    "        model = Fixed(paras_init=paras_init)\n",
    "\n",
    "        ## Algorithm setup.\n",
    "        algo = GD_ERM(step_coef=step_size, model=model, loss=loss_mrisk)\n",
    "\n",
    "        ## Data setup.\n",
    "        X_train = gen_X(n=n_train)\n",
    "\n",
    "        ## Storage of parameter values.\n",
    "        store_w = [w_init]\n",
    "\n",
    "        ## Do the training, one datapoint at a time.\n",
    "        num_steps = n_train // batch_size\n",
    "        idx_start = 0\n",
    "        idx_stop = min(batch_size, n_train)\n",
    "        for step in range(num_steps):\n",
    "            algo.update(X=X_train[idx_start:idx_stop,:], y=None)\n",
    "            idx_start += batch_size\n",
    "            idx_stop = min(idx_start+batch_size, n_train)\n",
    "            store_w += [algo.paras[\"w\"].item()]\n",
    "\n",
    "        ## Turn the stored parameters into an ndarray.\n",
    "        store_w = np.array(store_w)\n",
    "\n",
    "        ## Store the results for this trial.\n",
    "        store_over_trials += [store_w]\n",
    "\n",
    "    ## Prepare the final array of results for this setting.\n",
    "    store_over_trials = np.array(store_over_trials)\n",
    "    #print(\"Shape of results:\", store_over_trials.shape)\n",
    "    \n",
    "    ## Finally, store this setting-specific array.\n",
    "    key = str(eta)\n",
    "    store_over_settings[key] = store_over_trials"
   ]
  },
  {
   "cell_type": "code",
   "execution_count": 5,
   "id": "parallel-cisco",
   "metadata": {
    "scrolled": true
   },
   "outputs": [
    {
     "data": {
      "image/png": "[encoded data removed]",
      "text/plain": [
       "<Figure size 576x216 with 2 Axes>"
      ]
     },
     "metadata": {
      "needs_background": "light"
     },
     "output_type": "display_data"
    }
   ],
   "source": [
    "## Colour setup.\n",
    "eta_cmap = cm.get_cmap(\"plasma\")\n",
    "eta_names = [key for key in store_over_settings]\n",
    "eta_colours = {}\n",
    "for i, key in enumerate(eta_names):\n",
    "    eta_colours[key] = eta_cmap(i/len(eta_names))\n",
    "\n",
    "## Visualize the stored parameter values over time.\n",
    "fig, ax = plt.subplots(1, 1, figsize=(8,3)) # bigger size for detailed viewing.\n",
    "x_values = np.arange(0, num_steps+1, 1)\n",
    "for key in store_over_settings:\n",
    "    y_values = np.mean(store_over_settings[key], axis=0)\n",
    "    ax.plot(x_values, y_values, color=eta_colours[key], label=key)\n",
    "ax.set_ylim((0.0-0.15,1.0+0.15))\n",
    "ticks = [0.0, 0.5, 1.0]\n",
    "tick_labels = [r\"0.0\", r\"$h_{0}$\", r\"1.0\"]\n",
    "ax.set_yticks(ticks)\n",
    "ax.set_yticklabels(tick_labels)\n",
    "ax.tick_params(labelsize=my_fontsize)\n",
    "ax.xaxis.grid(True)\n",
    "ax.yaxis.grid(True)\n",
    "ax.set_xlabel(\"Iteration number\", size=my_fontsize)\n",
    "#ax.legend(loc=None, fontsize=my_fontsize)\n",
    "\n",
    "cmap = eta_cmap\n",
    "bounds = [a for a in range(len(eta_names))]\n",
    "norm = matplotlib.colors.BoundaryNorm(bounds, cmap.N, extend=\"both\")\n",
    "sm = cm.ScalarMappable(norm=norm, cmap=cmap)\n",
    "sm.set_array([])\n",
    "cb = fig.colorbar(sm)\n",
    "cb.set_label(label=r\"$k$ values\", size=my_fontsize)\n",
    "#cb.ax.tick_params(labelsize=my_fontsize)\n",
    "fig.suptitle(r\"Average $(h_t)$ trajectories (weighted by $\\eta = 2^{k}$)\", size=my_fontsize)\n",
    "#ax.set_title(\"Parameter passed through cross-entropy loss\",size=my_fontsize)\n",
    "fname = os.path.join(img_dir, \"trajectory_narrow_wide.{}\".format(my_ext))\n",
    "plt.tight_layout()\n",
    "#plt.savefig(fname=fname) # uncomment to save figure.\n",
    "plt.show()\n"
   ]
  },
  {
   "cell_type": "code",
   "execution_count": 6,
   "id": "determined-tobacco",
   "metadata": {
    "scrolled": false
   },
   "outputs": [
    {
     "data": {
      "image/png": "[encoded data removed]",
      "text/plain": [
       "<Figure size 216x36 with 1 Axes>"
      ]
     },
     "metadata": {
      "needs_background": "light"
     },
     "output_type": "display_data"
    }
   ],
   "source": [
    "## If desired, we can save a separate colorbar.\n",
    "\n",
    "fig, ax = plt.subplots(figsize=(3, 0.5))\n",
    "fig.subplots_adjust(bottom=0.5)\n",
    "cmap = eta_cmap\n",
    "bounds = [a for a in range(len(eta_names))]\n",
    "norm = matplotlib.colors.BoundaryNorm(bounds, cmap.N, extend=\"both\")\n",
    "fig.colorbar(cm.ScalarMappable(norm=norm, cmap=cmap),\n",
    "             cax=ax, orientation='horizontal',\n",
    "             label=\"\")\n",
    "ax.tick_params(labelsize=my_fontsize)\n",
    "ax.set_title(r\"$k$ values, with $\\eta = 2^{k}$\", size=my_fontsize)\n",
    "fname = os.path.join(img_dir, \"colorbar_narrow_wide.{}\".format(my_ext))\n",
    "#plt.savefig(fname=fname, bbox_inches=\"tight\") # use bbox_inches so text isn't cropped; uncomment to save.\n",
    "plt.show()"
   ]
  },
  {
   "cell_type": "code",
   "execution_count": 7,
   "id": "surprising-coating",
   "metadata": {},
   "outputs": [
    {
     "data": {
      "image/png": "[encoded data removed]",
      "text/plain": [
       "<Figure size 324x216 with 1 Axes>"
      ]
     },
     "metadata": {
      "needs_background": "light"
     },
     "output_type": "display_data"
    }
   ],
   "source": [
    "## Plot of our loss-defining example distributions.\n",
    "\n",
    "def pdf_folded_normal(x, loc=0.0, scale=1.0):\n",
    "    return (np.exp(-((x-loc)/scale)**2/2) + np.exp(-((x+loc)/scale)**2/2))/(scale*np.sqrt(2*np.pi))\n",
    "\n",
    "def mean_folded_normal(loc, scale):\n",
    "    return scale*np.sqrt(2/np.pi)*np.exp(-(loc/scale)**2/2) + loc*erf(loc/np.sqrt(2*scale**2))\n",
    "\n",
    "fig, ax = plt.subplots(1, 1, figsize=(4.5,3)) # bigger size for detailed viewing.\n",
    "x_values = np.linspace(0, 3, 1000)\n",
    "y_narrow = pdf_folded_normal(x=x_values, loc=location_narrow, scale=scale_narrow)\n",
    "y_wide = pdf_folded_normal(x=x_values, loc=location_wide, scale=scale_wide)\n",
    "mean_narrow = mean_folded_normal(loc=location_narrow, scale=scale_narrow)\n",
    "mean_wide = mean_folded_normal(loc=location_wide, scale=scale_wide)\n",
    "ax.axhline(y=0.0, color=\"xkcd:silver\")\n",
    "ax.axvline(x=0.0, color=\"xkcd:silver\")\n",
    "ax.axvline(x=mean_narrow, color=\"xkcd:silver\")\n",
    "ax.axvline(x=mean_wide, color=\"xkcd:silver\")\n",
    "ax.fill_between(x_values, y_narrow, 0, color=\"xkcd:cobalt\")\n",
    "ax.fill_between(x_values, y_wide, 0, color=\"xkcd:pinkish\")\n",
    "ticks = [0, mean_wide, mean_narrow]\n",
    "tick_labels = [\"0\", r\"$\\mathbf{E}\\,[\\mathrm{L_{wide}}]$\", r\"$\\mathbf{E}\\,[\\mathrm{L_{thin}}]$\"]\n",
    "ax.set_xticks(ticks)\n",
    "ax.set_xticklabels(tick_labels)\n",
    "#ax.set_yticks([])\n",
    "ax.set_ylabel(\"Density\", size=my_fontsize)\n",
    "ax.set_xlabel(\"Loss value\", size=my_fontsize)\n",
    "ax.tick_params(labelsize=my_fontsize)\n",
    "plt.tight_layout()\n",
    "fname = os.path.join(img_dir, \"distros_narrow_wide.{}\".format(my_ext))\n",
    "#plt.savefig(fname=fname) # uncomment to save figure.\n",
    "plt.show()\n"
   ]
  },
  {
   "cell_type": "code",
   "execution_count": 9,
   "id": "herbal-mixer",
   "metadata": {},
   "outputs": [
    {
     "data": {
      "image/png": "[encoded data removed]",
      "text/plain": [
       "<Figure size 504x216 with 1 Axes>"
      ]
     },
     "metadata": {
      "needs_background": "light"
     },
     "output_type": "display_data"
    }
   ],
   "source": [
    "## Histograms of our loss-defining example distributions.\n",
    "\n",
    "sample_narrow = gen_loss_narrow(n=10000)\n",
    "sample_wide = gen_loss_wide(n=10000)\n",
    "\n",
    "fig, ax = plt.subplots(nrows=1, ncols=1, figsize=(7,3))\n",
    "ax.axhline(y=0.0, color=\"xkcd:silver\")\n",
    "ax.axvline(x=0.0, color=\"xkcd:silver\")\n",
    "ax.hist(sample_wide, color=\"xkcd:pinkish\", bins=\"auto\", hatch=None, density=True)\n",
    "ax.hist(sample_narrow, color=\"xkcd:cobalt\", bins=\"auto\", hatch=None, density=True)\n",
    "ax.tick_params(labelsize=my_fontsize)\n",
    "plt.tight_layout()\n",
    "plt.show()"
   ]
  },
  {
   "cell_type": "markdown",
   "id": "destroyed-blake",
   "metadata": {},
   "source": [
    "___"
   ]
  }
 ],
 "metadata": {
  "kernelspec": {
   "display_name": "Python 3",
   "language": "python",
   "name": "python3"
  },
  "language_info": {
   "codemirror_mode": {
    "name": "ipython",
    "version": 3
   },
   "file_extension": ".py",
   "mimetype": "text/x-python",
   "name": "python",
   "nbconvert_exporter": "python",
   "pygments_lexer": "ipython3",
   "version": "3.8.8"
  }
 },
 "nbformat": 4,
 "nbformat_minor": 5
}
